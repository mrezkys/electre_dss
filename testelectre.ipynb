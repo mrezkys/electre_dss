{
 "cells": [
  {
   "cell_type": "code",
   "execution_count": 1,
   "id": "139bc427-0feb-41d7-815a-f03c8f2316ee",
   "metadata": {},
   "outputs": [
    {
     "name": "stdout",
     "output_type": "stream",
     "text": [
      "Requirement already satisfied: numpy in /opt/homebrew/Cellar/jupyterlab/4.4.1_1/libexec/lib/python3.13/site-packages (2.2.5)\n",
      "\n",
      "\u001b[1m[\u001b[0m\u001b[34;49mnotice\u001b[0m\u001b[1;39;49m]\u001b[0m\u001b[39;49m A new release of pip is available: \u001b[0m\u001b[31;49m25.0\u001b[0m\u001b[39;49m -> \u001b[0m\u001b[32;49m25.1.1\u001b[0m\n",
      "\u001b[1m[\u001b[0m\u001b[34;49mnotice\u001b[0m\u001b[1;39;49m]\u001b[0m\u001b[39;49m To update, run: \u001b[0m\u001b[32;49m/opt/homebrew/Cellar/jupyterlab/4.4.1_1/libexec/bin/python -m pip install --upgrade pip\u001b[0m\n",
      "Note: you may need to restart the kernel to use updated packages.\n"
     ]
    }
   ],
   "source": [
    "pip install numpy"
   ]
  },
  {
   "cell_type": "code",
   "execution_count": 2,
   "id": "9b6ff937-ab6c-4299-b8ee-088fad65de30",
   "metadata": {},
   "outputs": [
    {
     "name": "stdout",
     "output_type": "stream",
     "text": [
      "Requirement already satisfied: pandas in /opt/homebrew/Cellar/jupyterlab/4.4.1_1/libexec/lib/python3.13/site-packages (2.2.3)\n",
      "Requirement already satisfied: numpy>=1.26.0 in /opt/homebrew/Cellar/jupyterlab/4.4.1_1/libexec/lib/python3.13/site-packages (from pandas) (2.2.5)\n",
      "Requirement already satisfied: python-dateutil>=2.8.2 in /opt/homebrew/Cellar/jupyterlab/4.4.1_1/libexec/lib/python3.13/site-packages (from pandas) (2.9.0.post0)\n",
      "Requirement already satisfied: pytz>=2020.1 in /opt/homebrew/Cellar/jupyterlab/4.4.1_1/libexec/lib/python3.13/site-packages (from pandas) (2025.2)\n",
      "Requirement already satisfied: tzdata>=2022.7 in /opt/homebrew/Cellar/jupyterlab/4.4.1_1/libexec/lib/python3.13/site-packages (from pandas) (2025.2)\n",
      "Requirement already satisfied: six>=1.5 in /opt/homebrew/Cellar/jupyterlab/4.4.1_1/libexec/lib/python3.13/site-packages (from python-dateutil>=2.8.2->pandas) (1.17.0)\n",
      "\n",
      "\u001b[1m[\u001b[0m\u001b[34;49mnotice\u001b[0m\u001b[1;39;49m]\u001b[0m\u001b[39;49m A new release of pip is available: \u001b[0m\u001b[31;49m25.0\u001b[0m\u001b[39;49m -> \u001b[0m\u001b[32;49m25.1.1\u001b[0m\n",
      "\u001b[1m[\u001b[0m\u001b[34;49mnotice\u001b[0m\u001b[1;39;49m]\u001b[0m\u001b[39;49m To update, run: \u001b[0m\u001b[32;49m/opt/homebrew/Cellar/jupyterlab/4.4.1_1/libexec/bin/python -m pip install --upgrade pip\u001b[0m\n",
      "Note: you may need to restart the kernel to use updated packages.\n"
     ]
    }
   ],
   "source": [
    "pip install pandas"
   ]
  },
  {
   "cell_type": "code",
   "execution_count": 3,
   "id": "6a1881de-da7c-49e9-a211-55adb1ddceca",
   "metadata": {},
   "outputs": [
    {
     "name": "stdout",
     "output_type": "stream",
     "text": [
      "Obtaining file:///Users/mrezkys/Kampus/SPK/electre_library\n",
      "  Preparing metadata (setup.py) ... \u001b[?25ldone\n",
      "\u001b[?25hRequirement already satisfied: numpy>=1.20.0 in /opt/homebrew/Cellar/jupyterlab/4.4.1_1/libexec/lib/python3.13/site-packages (from electre_dss==0.1.0) (2.2.5)\n",
      "Installing collected packages: electre_dss\n",
      "  Attempting uninstall: electre_dss\n",
      "    Found existing installation: electre_dss 0.1.0\n",
      "    Uninstalling electre_dss-0.1.0:\n",
      "      Successfully uninstalled electre_dss-0.1.0\n",
      "\u001b[33m  DEPRECATION: Legacy editable install of electre_dss==0.1.0 from file:///Users/mrezkys/Kampus/SPK/electre_library (setup.py develop) is deprecated. pip 25.1 will enforce this behaviour change. A possible replacement is to add a pyproject.toml or enable --use-pep517, and use setuptools >= 64. If the resulting installation is not behaving as expected, try using --config-settings editable_mode=compat. Please consult the setuptools documentation for more information. Discussion can be found at https://github.com/pypa/pip/issues/11457\u001b[0m\u001b[33m\n",
      "\u001b[0m  Running setup.py develop for electre_dss\n",
      "Successfully installed electre_dss-0.1.0\n",
      "\n",
      "\u001b[1m[\u001b[0m\u001b[34;49mnotice\u001b[0m\u001b[1;39;49m]\u001b[0m\u001b[39;49m A new release of pip is available: \u001b[0m\u001b[31;49m25.0\u001b[0m\u001b[39;49m -> \u001b[0m\u001b[32;49m25.1.1\u001b[0m\n",
      "\u001b[1m[\u001b[0m\u001b[34;49mnotice\u001b[0m\u001b[1;39;49m]\u001b[0m\u001b[39;49m To update, run: \u001b[0m\u001b[32;49m/opt/homebrew/Cellar/jupyterlab/4.4.1_1/libexec/bin/python -m pip install --upgrade pip\u001b[0m\n",
      "Note: you may need to restart the kernel to use updated packages.\n"
     ]
    }
   ],
   "source": [
    "pip install -e ./electre_library"
   ]
  },
  {
   "cell_type": "code",
   "execution_count": 4,
   "id": "6926091a-9cfe-460f-8b4f-22d3ad9056df",
   "metadata": {},
   "outputs": [],
   "source": [
    "import numpy as np\n",
    "import pandas as pd # Optional: For nice table display\n",
    "from electre_dss import ElectreSolver"
   ]
  },
  {
   "cell_type": "code",
   "execution_count": 5,
   "id": "780e9218-39f6-49d8-826e-6ff9c894720c",
   "metadata": {
    "scrolled": true
   },
   "outputs": [
    {
     "name": "stdout",
     "output_type": "stream",
     "text": [
      "--- Input Data ---\n",
      "Decision Matrix:\n"
     ]
    },
    {
     "data": {
      "text/html": [
       "<div>\n",
       "<style scoped>\n",
       "    .dataframe tbody tr th:only-of-type {\n",
       "        vertical-align: middle;\n",
       "    }\n",
       "\n",
       "    .dataframe tbody tr th {\n",
       "        vertical-align: top;\n",
       "    }\n",
       "\n",
       "    .dataframe thead th {\n",
       "        text-align: right;\n",
       "    }\n",
       "</style>\n",
       "<table border=\"1\" class=\"dataframe\">\n",
       "  <thead>\n",
       "    <tr style=\"text-align: right;\">\n",
       "      <th></th>\n",
       "      <th>C1(Harga)</th>\n",
       "      <th>C2(Kamera)</th>\n",
       "      <th>C3(Memori)</th>\n",
       "      <th>C4(Berat)</th>\n",
       "      <th>C5(Keunikan)</th>\n",
       "    </tr>\n",
       "  </thead>\n",
       "  <tbody>\n",
       "    <tr>\n",
       "      <th>HP1</th>\n",
       "      <td>80</td>\n",
       "      <td>70</td>\n",
       "      <td>80</td>\n",
       "      <td>70</td>\n",
       "      <td>90</td>\n",
       "    </tr>\n",
       "    <tr>\n",
       "      <th>HP2</th>\n",
       "      <td>80</td>\n",
       "      <td>80</td>\n",
       "      <td>70</td>\n",
       "      <td>70</td>\n",
       "      <td>90</td>\n",
       "    </tr>\n",
       "    <tr>\n",
       "      <th>HP3</th>\n",
       "      <td>90</td>\n",
       "      <td>70</td>\n",
       "      <td>80</td>\n",
       "      <td>70</td>\n",
       "      <td>80</td>\n",
       "    </tr>\n",
       "  </tbody>\n",
       "</table>\n",
       "</div>"
      ],
      "text/plain": [
       "     C1(Harga)  C2(Kamera)  C3(Memori)  C4(Berat)  C5(Keunikan)\n",
       "HP1         80          70          80         70            90\n",
       "HP2         80          80          70         70            90\n",
       "HP3         90          70          80         70            80"
      ]
     },
     "metadata": {},
     "output_type": "display_data"
    },
    {
     "name": "stdout",
     "output_type": "stream",
     "text": [
      "\n",
      "Weights: [5 4 3 4 2]\n",
      "Criteria Types: ['cost', 'benefit', 'benefit', 'cost', 'benefit']\n"
     ]
    }
   ],
   "source": [
    "# 1. Define the Data\n",
    "\n",
    "decision_matrix = np.array([\n",
    "    [80, 70, 80, 70, 90], # HP1\n",
    "    [80, 80, 70, 70, 90], # HP2\n",
    "    [90, 70, 80, 70, 80]  # HP3\n",
    "])\n",
    "\n",
    "weights = np.array([5, 4, 3, 4, 2])\n",
    "\n",
    "# C1 (Harga), C4 (Berat) = cost\n",
    "# C2 (Kamera), C3 (Memori), C5 (Keunikan) = benefit\n",
    "criteria_types = ['cost', 'benefit', 'benefit', 'cost', 'benefit']\n",
    "\n",
    "alternative_names = ['HP1', 'HP2', 'HP3']\n",
    "criteria_names = ['C1(Harga)', 'C2(Kamera)', 'C3(Memori)', 'C4(Berat)', 'C5(Keunikan)']\n",
    "\n",
    "print(\"--- Input Data ---\")\n",
    "print(\"Decision Matrix:\")\n",
    "display(pd.DataFrame(decision_matrix, index=alternative_names, columns=criteria_names))\n",
    "print(f\"\\nWeights: {weights}\")\n",
    "print(f\"Criteria Types: {criteria_types}\")"
   ]
  },
  {
   "cell_type": "code",
   "execution_count": 6,
   "id": "015ed6e8-4398-4e45-b2ae-f4a253e7ed0a",
   "metadata": {},
   "outputs": [
    {
     "name": "stdout",
     "output_type": "stream",
     "text": [
      "\n",
      "--- Running Solver ---\n"
     ]
    }
   ],
   "source": [
    "# 2. Initialize and run the solver\n",
    "print(\"\\n--- Running Solver ---\")\n",
    "solver = ElectreSolver(\n",
    "    decision_matrix=decision_matrix,\n",
    "    weights=weights,\n",
    "    criteria_types=criteria_types,\n",
    "    alternative_names=alternative_names,\n",
    "    criteria_names=criteria_names\n",
    ")\n",
    "\n",
    "solver.solve() # This performs all calculations"
   ]
  },
  {
   "cell_type": "code",
   "execution_count": 7,
   "id": "7d6ea5ef-694e-4c0b-96c9-fafc766e7db7",
   "metadata": {},
   "outputs": [
    {
     "name": "stdout",
     "output_type": "stream",
     "text": [
      "\n",
      "------ FINAL RANKING ------\n",
      "1. HP2\n",
      "2. HP1\n",
      "3. HP3\n"
     ]
    }
   ],
   "source": [
    "# 3. Get and print the final ranking\n",
    "ranking = solver.get_ranking()\n",
    "print(\"\\n------ FINAL RANKING ------\")\n",
    "for i, name in enumerate(ranking):\n",
    "    print(f\"{i+1}. {name}\")"
   ]
  },
  {
   "cell_type": "code",
   "execution_count": 8,
   "id": "e2328c96-8ba6-4206-aaaa-b156bd0e26f8",
   "metadata": {},
   "outputs": [
    {
     "name": "stdout",
     "output_type": "stream",
     "text": [
      "\n",
      "------ DETAILED STEP-BY-STEP RESULTS ------\n",
      "\n",
      "Step 1: Normalized Decision Matrix (R)\n"
     ]
    },
    {
     "data": {
      "text/html": [
       "<div>\n",
       "<style scoped>\n",
       "    .dataframe tbody tr th:only-of-type {\n",
       "        vertical-align: middle;\n",
       "    }\n",
       "\n",
       "    .dataframe tbody tr th {\n",
       "        vertical-align: top;\n",
       "    }\n",
       "\n",
       "    .dataframe thead th {\n",
       "        text-align: right;\n",
       "    }\n",
       "</style>\n",
       "<table border=\"1\" class=\"dataframe\">\n",
       "  <thead>\n",
       "    <tr style=\"text-align: right;\">\n",
       "      <th></th>\n",
       "      <th>C1(Harga)</th>\n",
       "      <th>C2(Kamera)</th>\n",
       "      <th>C3(Memori)</th>\n",
       "      <th>C4(Berat)</th>\n",
       "      <th>C5(Keunikan)</th>\n",
       "    </tr>\n",
       "  </thead>\n",
       "  <tbody>\n",
       "    <tr>\n",
       "      <th>HP1</th>\n",
       "      <td>0.553</td>\n",
       "      <td>0.550</td>\n",
       "      <td>0.601</td>\n",
       "      <td>0.577</td>\n",
       "      <td>0.599</td>\n",
       "    </tr>\n",
       "    <tr>\n",
       "      <th>HP2</th>\n",
       "      <td>0.553</td>\n",
       "      <td>0.629</td>\n",
       "      <td>0.526</td>\n",
       "      <td>0.577</td>\n",
       "      <td>0.599</td>\n",
       "    </tr>\n",
       "    <tr>\n",
       "      <th>HP3</th>\n",
       "      <td>0.623</td>\n",
       "      <td>0.550</td>\n",
       "      <td>0.601</td>\n",
       "      <td>0.577</td>\n",
       "      <td>0.532</td>\n",
       "    </tr>\n",
       "  </tbody>\n",
       "</table>\n",
       "</div>"
      ],
      "text/plain": [
       "     C1(Harga)  C2(Kamera)  C3(Memori)  C4(Berat)  C5(Keunikan)\n",
       "HP1      0.553       0.550       0.601      0.577         0.599\n",
       "HP2      0.553       0.629       0.526      0.577         0.599\n",
       "HP3      0.623       0.550       0.601      0.577         0.532"
      ]
     },
     "metadata": {},
     "output_type": "display_data"
    },
    {
     "name": "stdout",
     "output_type": "stream",
     "text": [
      "\n",
      "Step 2: Weighted Normalized Matrix (V)\n"
     ]
    },
    {
     "data": {
      "text/html": [
       "<div>\n",
       "<style scoped>\n",
       "    .dataframe tbody tr th:only-of-type {\n",
       "        vertical-align: middle;\n",
       "    }\n",
       "\n",
       "    .dataframe tbody tr th {\n",
       "        vertical-align: top;\n",
       "    }\n",
       "\n",
       "    .dataframe thead th {\n",
       "        text-align: right;\n",
       "    }\n",
       "</style>\n",
       "<table border=\"1\" class=\"dataframe\">\n",
       "  <thead>\n",
       "    <tr style=\"text-align: right;\">\n",
       "      <th></th>\n",
       "      <th>C1(Harga)</th>\n",
       "      <th>C2(Kamera)</th>\n",
       "      <th>C3(Memori)</th>\n",
       "      <th>C4(Berat)</th>\n",
       "      <th>C5(Keunikan)</th>\n",
       "    </tr>\n",
       "  </thead>\n",
       "  <tbody>\n",
       "    <tr>\n",
       "      <th>HP1</th>\n",
       "      <td>2.767</td>\n",
       "      <td>2.200</td>\n",
       "      <td>1.804</td>\n",
       "      <td>2.309</td>\n",
       "      <td>1.197</td>\n",
       "    </tr>\n",
       "    <tr>\n",
       "      <th>HP2</th>\n",
       "      <td>2.767</td>\n",
       "      <td>2.514</td>\n",
       "      <td>1.578</td>\n",
       "      <td>2.309</td>\n",
       "      <td>1.197</td>\n",
       "    </tr>\n",
       "    <tr>\n",
       "      <th>HP3</th>\n",
       "      <td>3.113</td>\n",
       "      <td>2.200</td>\n",
       "      <td>1.804</td>\n",
       "      <td>2.309</td>\n",
       "      <td>1.064</td>\n",
       "    </tr>\n",
       "  </tbody>\n",
       "</table>\n",
       "</div>"
      ],
      "text/plain": [
       "     C1(Harga)  C2(Kamera)  C3(Memori)  C4(Berat)  C5(Keunikan)\n",
       "HP1      2.767       2.200       1.804      2.309         1.197\n",
       "HP2      2.767       2.514       1.578      2.309         1.197\n",
       "HP3      3.113       2.200       1.804      2.309         1.064"
      ]
     },
     "metadata": {},
     "output_type": "display_data"
    },
    {
     "name": "stdout",
     "output_type": "stream",
     "text": [
      "\n",
      "Steps 3 & 4: Concordance and Discordance Analysis\n",
      "Global Max Difference for Discordance Denominator: 0.346\n",
      "\n",
      "--- Pair (HP1 vs HP2) ---\n",
      "  Concordance Set C(HP1,HP2): { C1(Harga), C3(Memori), C4(Berat), C5(Keunikan) }\n",
      "  Concordance Index C_1,2: 14.0\n",
      "  Discordance Set D(HP1,HP2): { C2(Kamera) }\n",
      "  Max Difference in D(HP1,HP2): 0.314\n",
      "  Discordance Index d_1,2: (0.314 / 0.346) = 0.909\n",
      "\n",
      "--- Pair (HP1 vs HP3) ---\n",
      "  Concordance Set C(HP1,HP3): { C1(Harga), C2(Kamera), C3(Memori), C4(Berat), C5(Keunikan) }\n",
      "  Concordance Index C_1,3: 18.0\n",
      "  Discordance Set D(HP1,HP3): { None }\n",
      "  Max Difference in D(HP1,HP3): 0.000\n",
      "  Discordance Index d_1,3: (0.000 / 0.346) = 0.000\n",
      "\n",
      "--- Pair (HP2 vs HP1) ---\n",
      "  Concordance Set C(HP2,HP1): { C1(Harga), C2(Kamera), C4(Berat), C5(Keunikan) }\n",
      "  Concordance Index C_2,1: 15.0\n",
      "  Discordance Set D(HP2,HP1): { C3(Memori) }\n",
      "  Max Difference in D(HP2,HP1): 0.225\n",
      "  Discordance Index d_2,1: (0.225 / 0.346) = 0.652\n",
      "\n",
      "--- Pair (HP2 vs HP3) ---\n",
      "  Concordance Set C(HP2,HP3): { C1(Harga), C2(Kamera), C4(Berat), C5(Keunikan) }\n",
      "  Concordance Index C_2,3: 15.0\n",
      "  Discordance Set D(HP2,HP3): { C3(Memori) }\n",
      "  Max Difference in D(HP2,HP3): 0.225\n",
      "  Discordance Index d_2,3: (0.225 / 0.346) = 0.652\n",
      "\n",
      "--- Pair (HP3 vs HP1) ---\n",
      "  Concordance Set C(HP3,HP1): { C2(Kamera), C3(Memori), C4(Berat) }\n",
      "  Concordance Index C_3,1: 11.0\n",
      "  Discordance Set D(HP3,HP1): { C1(Harga), C5(Keunikan) }\n",
      "  Max Difference in D(HP3,HP1): 0.346\n",
      "  Discordance Index d_3,1: (0.346 / 0.346) = 1.000\n",
      "\n",
      "--- Pair (HP3 vs HP2) ---\n",
      "  Concordance Set C(HP3,HP2): { C3(Memori), C4(Berat) }\n",
      "  Concordance Index C_3,2: 7.0\n",
      "  Discordance Set D(HP3,HP2): { C1(Harga), C2(Kamera), C5(Keunikan) }\n",
      "  Max Difference in D(HP3,HP2): 0.346\n",
      "  Discordance Index d_3,2: (0.346 / 0.346) = 1.000\n",
      "\n",
      "Step 5: Threshold Calculation\n",
      "  Concordance Threshold (c) = Sum(C_kl) / (m*(m-1)) = 80.0 / 6 = 13.333\n",
      "  Discordance Threshold (d) = Sum(d_kl) / (m*(m-1)) = 4.213 / 6 = 0.7021\n",
      "\n",
      "Step 6: Dominance Matrices\n",
      "  Concordance Dominance Matrix (F): C_kl >= 13.333\n"
     ]
    },
    {
     "data": {
      "text/html": [
       "<div>\n",
       "<style scoped>\n",
       "    .dataframe tbody tr th:only-of-type {\n",
       "        vertical-align: middle;\n",
       "    }\n",
       "\n",
       "    .dataframe tbody tr th {\n",
       "        vertical-align: top;\n",
       "    }\n",
       "\n",
       "    .dataframe thead th {\n",
       "        text-align: right;\n",
       "    }\n",
       "</style>\n",
       "<table border=\"1\" class=\"dataframe\">\n",
       "  <thead>\n",
       "    <tr style=\"text-align: right;\">\n",
       "      <th></th>\n",
       "      <th>HP1</th>\n",
       "      <th>HP2</th>\n",
       "      <th>HP3</th>\n",
       "    </tr>\n",
       "  </thead>\n",
       "  <tbody>\n",
       "    <tr>\n",
       "      <th>HP1</th>\n",
       "      <td>0</td>\n",
       "      <td>1</td>\n",
       "      <td>1</td>\n",
       "    </tr>\n",
       "    <tr>\n",
       "      <th>HP2</th>\n",
       "      <td>1</td>\n",
       "      <td>0</td>\n",
       "      <td>1</td>\n",
       "    </tr>\n",
       "    <tr>\n",
       "      <th>HP3</th>\n",
       "      <td>0</td>\n",
       "      <td>0</td>\n",
       "      <td>0</td>\n",
       "    </tr>\n",
       "  </tbody>\n",
       "</table>\n",
       "</div>"
      ],
      "text/plain": [
       "     HP1  HP2  HP3\n",
       "HP1    0    1    1\n",
       "HP2    1    0    1\n",
       "HP3    0    0    0"
      ]
     },
     "metadata": {},
     "output_type": "display_data"
    },
    {
     "name": "stdout",
     "output_type": "stream",
     "text": [
      "  Discordance Dominance Matrix (G): d_kl <= 0.7021\n"
     ]
    },
    {
     "data": {
      "text/html": [
       "<div>\n",
       "<style scoped>\n",
       "    .dataframe tbody tr th:only-of-type {\n",
       "        vertical-align: middle;\n",
       "    }\n",
       "\n",
       "    .dataframe tbody tr th {\n",
       "        vertical-align: top;\n",
       "    }\n",
       "\n",
       "    .dataframe thead th {\n",
       "        text-align: right;\n",
       "    }\n",
       "</style>\n",
       "<table border=\"1\" class=\"dataframe\">\n",
       "  <thead>\n",
       "    <tr style=\"text-align: right;\">\n",
       "      <th></th>\n",
       "      <th>HP1</th>\n",
       "      <th>HP2</th>\n",
       "      <th>HP3</th>\n",
       "    </tr>\n",
       "  </thead>\n",
       "  <tbody>\n",
       "    <tr>\n",
       "      <th>HP1</th>\n",
       "      <td>0</td>\n",
       "      <td>0</td>\n",
       "      <td>1</td>\n",
       "    </tr>\n",
       "    <tr>\n",
       "      <th>HP2</th>\n",
       "      <td>1</td>\n",
       "      <td>0</td>\n",
       "      <td>1</td>\n",
       "    </tr>\n",
       "    <tr>\n",
       "      <th>HP3</th>\n",
       "      <td>0</td>\n",
       "      <td>0</td>\n",
       "      <td>0</td>\n",
       "    </tr>\n",
       "  </tbody>\n",
       "</table>\n",
       "</div>"
      ],
      "text/plain": [
       "     HP1  HP2  HP3\n",
       "HP1    0    0    1\n",
       "HP2    1    0    1\n",
       "HP3    0    0    0"
      ]
     },
     "metadata": {},
     "output_type": "display_data"
    },
    {
     "name": "stdout",
     "output_type": "stream",
     "text": [
      "\n",
      "Step 7: Aggregate Dominance Matrix (E) = F * G\n"
     ]
    },
    {
     "data": {
      "text/html": [
       "<div>\n",
       "<style scoped>\n",
       "    .dataframe tbody tr th:only-of-type {\n",
       "        vertical-align: middle;\n",
       "    }\n",
       "\n",
       "    .dataframe tbody tr th {\n",
       "        vertical-align: top;\n",
       "    }\n",
       "\n",
       "    .dataframe thead th {\n",
       "        text-align: right;\n",
       "    }\n",
       "</style>\n",
       "<table border=\"1\" class=\"dataframe\">\n",
       "  <thead>\n",
       "    <tr style=\"text-align: right;\">\n",
       "      <th></th>\n",
       "      <th>HP1</th>\n",
       "      <th>HP2</th>\n",
       "      <th>HP3</th>\n",
       "    </tr>\n",
       "  </thead>\n",
       "  <tbody>\n",
       "    <tr>\n",
       "      <th>HP1</th>\n",
       "      <td>0</td>\n",
       "      <td>0</td>\n",
       "      <td>1</td>\n",
       "    </tr>\n",
       "    <tr>\n",
       "      <th>HP2</th>\n",
       "      <td>1</td>\n",
       "      <td>0</td>\n",
       "      <td>1</td>\n",
       "    </tr>\n",
       "    <tr>\n",
       "      <th>HP3</th>\n",
       "      <td>0</td>\n",
       "      <td>0</td>\n",
       "      <td>0</td>\n",
       "    </tr>\n",
       "  </tbody>\n",
       "</table>\n",
       "</div>"
      ],
      "text/plain": [
       "     HP1  HP2  HP3\n",
       "HP1    0    0    1\n",
       "HP2    1    0    1\n",
       "HP3    0    0    0"
      ]
     },
     "metadata": {},
     "output_type": "display_data"
    },
    {
     "name": "stdout",
     "output_type": "stream",
     "text": [
      "\n",
      "Step 8: Final Ranking (interpreting E)\n",
      "  (Ranking based on net dominance score: sum(row E) - sum(col E))\n",
      "  1. HP2\n",
      "  2. HP1\n",
      "  3. HP3\n"
     ]
    }
   ],
   "source": [
    "# 4. Display detailed intermediate results for verification\n",
    "print(\"\\n------ DETAILED STEP-BY-STEP RESULTS ------\")\n",
    "results = solver.get_intermediate_results()\n",
    "alternative_names = solver.alternative_names # Get names from solver\n",
    "criteria_names = solver.criteria_names     # Get names from solver\n",
    "\n",
    "# Step 1: Normalization (Euclidean)\n",
    "print(\"\\nStep 1: Normalized Decision Matrix (R)\")\n",
    "display(pd.DataFrame(results['raw_normalized_matrix'], index=alternative_names, columns=criteria_names).round(3))\n",
    "\n",
    "# Step 2: Weighted Normalization\n",
    "print(\"\\nStep 2: Weighted Normalized Matrix (V)\")\n",
    "display(pd.DataFrame(results['weighted_matrix'], index=alternative_names, columns=criteria_names).round(3))\n",
    "\n",
    "# Step 3 & 4: Concordance/Discordance Sets & Indices\n",
    "print(\"\\nSteps 3 & 4: Concordance and Discordance Analysis\")\n",
    "# Ensure global max diff is available and formatted correctly\n",
    "global_max_diff_val = results['discordance_global_max_diff']\n",
    "print(f\"Global Max Difference for Discordance Denominator: {global_max_diff_val:.3f}\")\n",
    "\n",
    "for k in range(solver.num_alternatives):\n",
    "    for l in range(solver.num_alternatives):\n",
    "        if k == l: continue\n",
    "        k_name = alternative_names[k]\n",
    "        l_name = alternative_names[l]\n",
    "        pair = (k, l) # Use integer indices for dict keys\n",
    "\n",
    "        print(f'\\n--- Pair ({k_name} vs {l_name}) ---')\n",
    "        \n",
    "        # Concordance\n",
    "        # Use .get(pair, []) for safety if a pair somehow wasn't calculated\n",
    "        conc_set = results['concordance_sets'].get(pair, []) \n",
    "        conc_index = results['concordance_matrix'][k, l]\n",
    "        # Format set output nicely\n",
    "        conc_set_str = ', '.join(conc_set) if conc_set else 'None' \n",
    "        print(f\"  Concordance Set C({k_name},{l_name}): {{ {conc_set_str} }}\")\n",
    "        print(f\"  Concordance Index C_{k+1},{l+1}: {conc_index:.1f}\") # Match report format (1 decimal usually)\n",
    "\n",
    "        # Discordance\n",
    "        disc_set = results['discordance_sets'].get(pair, [])\n",
    "        # Get max diff within the set for this pair\n",
    "        disc_max_diff = results['discordance_max_diffs'].get(pair, 0.0) \n",
    "        disc_index = results['discordance_matrix'][k, l]\n",
    "        disc_set_str = ', '.join(disc_set) if disc_set else 'None'\n",
    "        print(f\"  Discordance Set D({k_name},{l_name}): {{ {disc_set_str} }}\")\n",
    "        print(f\"  Max Difference in D({k_name},{l_name}): {disc_max_diff:.3f}\")\n",
    "        # Show the calculation clearly\n",
    "        print(f\"  Discordance Index d_{k+1},{l+1}: ({disc_max_diff:.3f} / {global_max_diff_val:.3f}) = {disc_index:.3f}\")\n",
    "\n",
    "# Step 5: Thresholds\n",
    "print(\"\\nStep 5: Threshold Calculation\")\n",
    "c_threshold = results['concordance_threshold']\n",
    "d_threshold = results['discordance_threshold']\n",
    "print(f\"  Concordance Threshold (c) = Sum(C_kl) / (m*(m-1)) = {np.sum(results['concordance_matrix']):.1f} / {solver.num_alternatives * (solver.num_alternatives - 1)} = {c_threshold:.3f}\")\n",
    "print(f\"  Discordance Threshold (d) = Sum(d_kl) / (m*(m-1)) = {np.sum(results['discordance_matrix']):.3f} / {solver.num_alternatives * (solver.num_alternatives - 1)} = {d_threshold:.4f}\")\n",
    "\n",
    "# Step 6: Dominance Matrices\n",
    "print(\"\\nStep 6: Dominance Matrices\")\n",
    "print(f\"  Concordance Dominance Matrix (F): C_kl >= {c_threshold:.3f}\")\n",
    "display(pd.DataFrame(results['concordance_dominance_matrix'], index=alternative_names, columns=alternative_names))\n",
    "print(f\"  Discordance Dominance Matrix (G): d_kl <= {d_threshold:.4f}\")\n",
    "display(pd.DataFrame(results['discordance_dominance_matrix'], index=alternative_names, columns=alternative_names))\n",
    "\n",
    "# Step 7: Aggregate Dominance Matrix\n",
    "print(\"\\nStep 7: Aggregate Dominance Matrix (E) = F * G\")\n",
    "display(pd.DataFrame(results['aggregate_dominance_matrix'], index=alternative_names, columns=alternative_names))\n",
    "\n",
    "# Step 8: Final Ranking (derived from E)\n",
    "print(\"\\nStep 8: Final Ranking (interpreting E)\")\n",
    "ranking = solver.get_ranking() # Get ranking calculated by the solver\n",
    "# Explanation based on the simple net score used in _determine_ranking\n",
    "print(\"  (Ranking based on net dominance score: sum(row E) - sum(col E))\") \n",
    "for i, name in enumerate(ranking):\n",
    "    print(f\"  {i+1}. {name}\")"
   ]
  },
  {
   "cell_type": "code",
   "execution_count": null,
   "id": "7d5a7b7e-f16f-4112-b288-2f6e0f820ad9",
   "metadata": {},
   "outputs": [],
   "source": []
  }
 ],
 "metadata": {
  "kernelspec": {
   "display_name": "Python 3 (ipykernel)",
   "language": "python",
   "name": "python3"
  },
  "language_info": {
   "codemirror_mode": {
    "name": "ipython",
    "version": 3
   },
   "file_extension": ".py",
   "mimetype": "text/x-python",
   "name": "python",
   "nbconvert_exporter": "python",
   "pygments_lexer": "ipython3",
   "version": "3.13.3"
  }
 },
 "nbformat": 4,
 "nbformat_minor": 5
}
