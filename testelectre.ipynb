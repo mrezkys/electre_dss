{
 "cells": [
  {
   "cell_type": "code",
   "execution_count": 11,
   "id": "139bc427-0feb-41d7-815a-f03c8f2316ee",
   "metadata": {},
   "outputs": [
    {
     "name": "stdout",
     "output_type": "stream",
     "text": [
      "Requirement already satisfied: numpy in /opt/homebrew/Cellar/jupyterlab/4.4.1_1/libexec/lib/python3.13/site-packages (2.2.5)\n",
      "\n",
      "\u001b[1m[\u001b[0m\u001b[34;49mnotice\u001b[0m\u001b[1;39;49m]\u001b[0m\u001b[39;49m A new release of pip is available: \u001b[0m\u001b[31;49m25.0\u001b[0m\u001b[39;49m -> \u001b[0m\u001b[32;49m25.1.1\u001b[0m\n",
      "\u001b[1m[\u001b[0m\u001b[34;49mnotice\u001b[0m\u001b[1;39;49m]\u001b[0m\u001b[39;49m To update, run: \u001b[0m\u001b[32;49m/opt/homebrew/Cellar/jupyterlab/4.4.1_1/libexec/bin/python -m pip install --upgrade pip\u001b[0m\n",
      "Note: you may need to restart the kernel to use updated packages.\n"
     ]
    }
   ],
   "source": [
    "pip install numpy"
   ]
  },
  {
   "cell_type": "code",
   "execution_count": 12,
   "id": "9b6ff937-ab6c-4299-b8ee-088fad65de30",
   "metadata": {},
   "outputs": [
    {
     "name": "stdout",
     "output_type": "stream",
     "text": [
      "Requirement already satisfied: pandas in /opt/homebrew/Cellar/jupyterlab/4.4.1_1/libexec/lib/python3.13/site-packages (2.2.3)\n",
      "Requirement already satisfied: numpy>=1.26.0 in /opt/homebrew/Cellar/jupyterlab/4.4.1_1/libexec/lib/python3.13/site-packages (from pandas) (2.2.5)\n",
      "Requirement already satisfied: python-dateutil>=2.8.2 in /opt/homebrew/Cellar/jupyterlab/4.4.1_1/libexec/lib/python3.13/site-packages (from pandas) (2.9.0.post0)\n",
      "Requirement already satisfied: pytz>=2020.1 in /opt/homebrew/Cellar/jupyterlab/4.4.1_1/libexec/lib/python3.13/site-packages (from pandas) (2025.2)\n",
      "Requirement already satisfied: tzdata>=2022.7 in /opt/homebrew/Cellar/jupyterlab/4.4.1_1/libexec/lib/python3.13/site-packages (from pandas) (2025.2)\n",
      "Requirement already satisfied: six>=1.5 in /opt/homebrew/Cellar/jupyterlab/4.4.1_1/libexec/lib/python3.13/site-packages (from python-dateutil>=2.8.2->pandas) (1.17.0)\n",
      "\n",
      "\u001b[1m[\u001b[0m\u001b[34;49mnotice\u001b[0m\u001b[1;39;49m]\u001b[0m\u001b[39;49m A new release of pip is available: \u001b[0m\u001b[31;49m25.0\u001b[0m\u001b[39;49m -> \u001b[0m\u001b[32;49m25.1.1\u001b[0m\n",
      "\u001b[1m[\u001b[0m\u001b[34;49mnotice\u001b[0m\u001b[1;39;49m]\u001b[0m\u001b[39;49m To update, run: \u001b[0m\u001b[32;49m/opt/homebrew/Cellar/jupyterlab/4.4.1_1/libexec/bin/python -m pip install --upgrade pip\u001b[0m\n",
      "Note: you may need to restart the kernel to use updated packages.\n"
     ]
    }
   ],
   "source": [
    "pip install pandas"
   ]
  },
  {
   "cell_type": "code",
   "execution_count": 13,
   "id": "6926091a-9cfe-460f-8b4f-22d3ad9056df",
   "metadata": {},
   "outputs": [],
   "source": [
    "import numpy as np\n",
    "import pandas as pd # Optional: For nice table display\n",
    "from electre_dss import ElectreSolver"
   ]
  },
  {
   "cell_type": "code",
   "execution_count": 14,
   "id": "780e9218-39f6-49d8-826e-6ff9c894720c",
   "metadata": {},
   "outputs": [
    {
     "name": "stdout",
     "output_type": "stream",
     "text": [
      "--- Input Data ---\n",
      "Decision Matrix:\n"
     ]
    },
    {
     "data": {
      "text/html": [
       "<div>\n",
       "<style scoped>\n",
       "    .dataframe tbody tr th:only-of-type {\n",
       "        vertical-align: middle;\n",
       "    }\n",
       "\n",
       "    .dataframe tbody tr th {\n",
       "        vertical-align: top;\n",
       "    }\n",
       "\n",
       "    .dataframe thead th {\n",
       "        text-align: right;\n",
       "    }\n",
       "</style>\n",
       "<table border=\"1\" class=\"dataframe\">\n",
       "  <thead>\n",
       "    <tr style=\"text-align: right;\">\n",
       "      <th></th>\n",
       "      <th>C1(Harga)</th>\n",
       "      <th>C2(Kamera)</th>\n",
       "      <th>C3(Memori)</th>\n",
       "      <th>C4(Berat)</th>\n",
       "      <th>C5(Keunikan)</th>\n",
       "    </tr>\n",
       "  </thead>\n",
       "  <tbody>\n",
       "    <tr>\n",
       "      <th>HP1</th>\n",
       "      <td>80</td>\n",
       "      <td>70</td>\n",
       "      <td>80</td>\n",
       "      <td>70</td>\n",
       "      <td>90</td>\n",
       "    </tr>\n",
       "    <tr>\n",
       "      <th>HP2</th>\n",
       "      <td>80</td>\n",
       "      <td>80</td>\n",
       "      <td>70</td>\n",
       "      <td>70</td>\n",
       "      <td>90</td>\n",
       "    </tr>\n",
       "    <tr>\n",
       "      <th>HP3</th>\n",
       "      <td>90</td>\n",
       "      <td>70</td>\n",
       "      <td>80</td>\n",
       "      <td>70</td>\n",
       "      <td>80</td>\n",
       "    </tr>\n",
       "  </tbody>\n",
       "</table>\n",
       "</div>"
      ],
      "text/plain": [
       "     C1(Harga)  C2(Kamera)  C3(Memori)  C4(Berat)  C5(Keunikan)\n",
       "HP1         80          70          80         70            90\n",
       "HP2         80          80          70         70            90\n",
       "HP3         90          70          80         70            80"
      ]
     },
     "metadata": {},
     "output_type": "display_data"
    },
    {
     "name": "stdout",
     "output_type": "stream",
     "text": [
      "\n",
      "Weights: [5 4 3 4 2]\n",
      "Criteria Types: ['cost', 'benefit', 'benefit', 'cost', 'benefit']\n"
     ]
    }
   ],
   "source": [
    "# 1. Define the Data\n",
    "\n",
    "decision_matrix = np.array([\n",
    "    [80, 70, 80, 70, 90], # HP1\n",
    "    [80, 80, 70, 70, 90], # HP2\n",
    "    [90, 70, 80, 70, 80]  # HP3\n",
    "])\n",
    "\n",
    "weights = np.array([5, 4, 3, 4, 2])\n",
    "\n",
    "# C1 (Harga), C4 (Berat) = cost\n",
    "# C2 (Kamera), C3 (Memori), C5 (Keunikan) = benefit\n",
    "criteria_types = ['cost', 'benefit', 'benefit', 'cost', 'benefit']\n",
    "\n",
    "alternative_names = ['HP1', 'HP2', 'HP3']\n",
    "criteria_names = ['C1(Harga)', 'C2(Kamera)', 'C3(Memori)', 'C4(Berat)', 'C5(Keunikan)']\n",
    "\n",
    "print(\"--- Input Data ---\")\n",
    "print(\"Decision Matrix:\")\n",
    "display(pd.DataFrame(decision_matrix, index=alternative_names, columns=criteria_names))\n",
    "print(f\"\\nWeights: {weights}\")\n",
    "print(f\"Criteria Types: {criteria_types}\")"
   ]
  },
  {
   "cell_type": "code",
   "execution_count": 15,
   "id": "015ed6e8-4398-4e45-b2ae-f4a253e7ed0a",
   "metadata": {},
   "outputs": [
    {
     "name": "stdout",
     "output_type": "stream",
     "text": [
      "\n",
      "--- Running Solver ---\n"
     ]
    }
   ],
   "source": [
    "# 2. Initialize and run the solver\n",
    "print(\"\\n--- Running Solver ---\")\n",
    "solver = ElectreSolver(\n",
    "    decision_matrix=decision_matrix,\n",
    "    weights=weights,\n",
    "    criteria_types=criteria_types,\n",
    "    alternative_names=alternative_names,\n",
    "    criteria_names=criteria_names\n",
    ")\n",
    "\n",
    "solver.solve() # This performs all calculations"
   ]
  },
  {
   "cell_type": "code",
   "execution_count": 16,
   "id": "7d6ea5ef-694e-4c0b-96c9-fafc766e7db7",
   "metadata": {},
   "outputs": [
    {
     "name": "stdout",
     "output_type": "stream",
     "text": [
      "\n",
      "------ FINAL RANKING ------\n",
      "1. HP2\n",
      "2. HP1\n",
      "3. HP3\n"
     ]
    }
   ],
   "source": [
    "# 3. Get and print the final ranking\n",
    "ranking = solver.get_ranking()\n",
    "print(\"\\n------ FINAL RANKING ------\")\n",
    "for i, name in enumerate(ranking):\n",
    "    print(f\"{i+1}. {name}\")"
   ]
  },
  {
   "cell_type": "code",
   "execution_count": 17,
   "id": "e2328c96-8ba6-4206-aaaa-b156bd0e26f8",
   "metadata": {},
   "outputs": [
    {
     "name": "stdout",
     "output_type": "stream",
     "text": [
      "\n",
      "------ INTERMEDIATE RESULTS (Verification) ------\n",
      "\n",
      "Concordance Threshold (c): 13.333\n",
      "Concordance Matrix (C):\n"
     ]
    },
    {
     "data": {
      "text/html": [
       "<div>\n",
       "<style scoped>\n",
       "    .dataframe tbody tr th:only-of-type {\n",
       "        vertical-align: middle;\n",
       "    }\n",
       "\n",
       "    .dataframe tbody tr th {\n",
       "        vertical-align: top;\n",
       "    }\n",
       "\n",
       "    .dataframe thead th {\n",
       "        text-align: right;\n",
       "    }\n",
       "</style>\n",
       "<table border=\"1\" class=\"dataframe\">\n",
       "  <thead>\n",
       "    <tr style=\"text-align: right;\">\n",
       "      <th></th>\n",
       "      <th>HP1</th>\n",
       "      <th>HP2</th>\n",
       "      <th>HP3</th>\n",
       "    </tr>\n",
       "  </thead>\n",
       "  <tbody>\n",
       "    <tr>\n",
       "      <th>HP1</th>\n",
       "      <td>0.0</td>\n",
       "      <td>14.0</td>\n",
       "      <td>18.0</td>\n",
       "    </tr>\n",
       "    <tr>\n",
       "      <th>HP2</th>\n",
       "      <td>15.0</td>\n",
       "      <td>0.0</td>\n",
       "      <td>15.0</td>\n",
       "    </tr>\n",
       "    <tr>\n",
       "      <th>HP3</th>\n",
       "      <td>11.0</td>\n",
       "      <td>7.0</td>\n",
       "      <td>0.0</td>\n",
       "    </tr>\n",
       "  </tbody>\n",
       "</table>\n",
       "</div>"
      ],
      "text/plain": [
       "      HP1   HP2   HP3\n",
       "HP1   0.0  14.0  18.0\n",
       "HP2  15.0   0.0  15.0\n",
       "HP3  11.0   7.0   0.0"
      ]
     },
     "metadata": {},
     "output_type": "display_data"
    },
    {
     "name": "stdout",
     "output_type": "stream",
     "text": [
      "\n",
      "Discordance Threshold (d): 0.7021\n",
      "Discordance Matrix (D):\n"
     ]
    },
    {
     "data": {
      "text/html": [
       "<div>\n",
       "<style scoped>\n",
       "    .dataframe tbody tr th:only-of-type {\n",
       "        vertical-align: middle;\n",
       "    }\n",
       "\n",
       "    .dataframe tbody tr th {\n",
       "        vertical-align: top;\n",
       "    }\n",
       "\n",
       "    .dataframe thead th {\n",
       "        text-align: right;\n",
       "    }\n",
       "</style>\n",
       "<table border=\"1\" class=\"dataframe\">\n",
       "  <thead>\n",
       "    <tr style=\"text-align: right;\">\n",
       "      <th></th>\n",
       "      <th>HP1</th>\n",
       "      <th>HP2</th>\n",
       "      <th>HP3</th>\n",
       "    </tr>\n",
       "  </thead>\n",
       "  <tbody>\n",
       "    <tr>\n",
       "      <th>HP1</th>\n",
       "      <td>0.000</td>\n",
       "      <td>0.909</td>\n",
       "      <td>0.000</td>\n",
       "    </tr>\n",
       "    <tr>\n",
       "      <th>HP2</th>\n",
       "      <td>0.652</td>\n",
       "      <td>0.000</td>\n",
       "      <td>0.652</td>\n",
       "    </tr>\n",
       "    <tr>\n",
       "      <th>HP3</th>\n",
       "      <td>1.000</td>\n",
       "      <td>1.000</td>\n",
       "      <td>0.000</td>\n",
       "    </tr>\n",
       "  </tbody>\n",
       "</table>\n",
       "</div>"
      ],
      "text/plain": [
       "       HP1    HP2    HP3\n",
       "HP1  0.000  0.909  0.000\n",
       "HP2  0.652  0.000  0.652\n",
       "HP3  1.000  1.000  0.000"
      ]
     },
     "metadata": {},
     "output_type": "display_data"
    },
    {
     "name": "stdout",
     "output_type": "stream",
     "text": [
      "\n",
      "Aggregate Dominance Matrix (E):\n"
     ]
    },
    {
     "data": {
      "text/html": [
       "<div>\n",
       "<style scoped>\n",
       "    .dataframe tbody tr th:only-of-type {\n",
       "        vertical-align: middle;\n",
       "    }\n",
       "\n",
       "    .dataframe tbody tr th {\n",
       "        vertical-align: top;\n",
       "    }\n",
       "\n",
       "    .dataframe thead th {\n",
       "        text-align: right;\n",
       "    }\n",
       "</style>\n",
       "<table border=\"1\" class=\"dataframe\">\n",
       "  <thead>\n",
       "    <tr style=\"text-align: right;\">\n",
       "      <th></th>\n",
       "      <th>HP1</th>\n",
       "      <th>HP2</th>\n",
       "      <th>HP3</th>\n",
       "    </tr>\n",
       "  </thead>\n",
       "  <tbody>\n",
       "    <tr>\n",
       "      <th>HP1</th>\n",
       "      <td>0</td>\n",
       "      <td>0</td>\n",
       "      <td>1</td>\n",
       "    </tr>\n",
       "    <tr>\n",
       "      <th>HP2</th>\n",
       "      <td>1</td>\n",
       "      <td>0</td>\n",
       "      <td>1</td>\n",
       "    </tr>\n",
       "    <tr>\n",
       "      <th>HP3</th>\n",
       "      <td>0</td>\n",
       "      <td>0</td>\n",
       "      <td>0</td>\n",
       "    </tr>\n",
       "  </tbody>\n",
       "</table>\n",
       "</div>"
      ],
      "text/plain": [
       "     HP1  HP2  HP3\n",
       "HP1    0    0    1\n",
       "HP2    1    0    1\n",
       "HP3    0    0    0"
      ]
     },
     "metadata": {},
     "output_type": "display_data"
    }
   ],
   "source": [
    "# 4. Optional: Display intermediate results for verification\n",
    "print(\"\\n------ INTERMEDIATE RESULTS (Verification) ------\")\n",
    "results = solver.get_intermediate_results()\n",
    "\n",
    "print(f\"\\nConcordance Threshold (c): {results['concordance_threshold']:.3f}\")\n",
    "print(\"Concordance Matrix (C):\")\n",
    "display(pd.DataFrame(results['concordance_matrix'], index=alternative_names, columns=alternative_names).round(3))\n",
    "\n",
    "print(f\"\\nDiscordance Threshold (d): {results['discordance_threshold']:.4f}\")\n",
    "print(\"Discordance Matrix (D):\")\n",
    "display(pd.DataFrame(results['discordance_matrix'], index=alternative_names, columns=alternative_names).round(3))\n",
    "\n",
    "print(\"\\nAggregate Dominance Matrix (E):\")\n",
    "display(pd.DataFrame(results['aggregate_dominance_matrix'], index=alternative_names, columns=alternative_names))"
   ]
  },
  {
   "cell_type": "code",
   "execution_count": null,
   "id": "7d5a7b7e-f16f-4112-b288-2f6e0f820ad9",
   "metadata": {},
   "outputs": [],
   "source": []
  }
 ],
 "metadata": {
  "kernelspec": {
   "display_name": "Python 3 (ipykernel)",
   "language": "python",
   "name": "python3"
  },
  "language_info": {
   "codemirror_mode": {
    "name": "ipython",
    "version": 3
   },
   "file_extension": ".py",
   "mimetype": "text/x-python",
   "name": "python",
   "nbconvert_exporter": "python",
   "pygments_lexer": "ipython3",
   "version": "3.13.3"
  }
 },
 "nbformat": 4,
 "nbformat_minor": 5
}
